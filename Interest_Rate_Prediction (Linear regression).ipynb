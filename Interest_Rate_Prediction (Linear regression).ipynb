{
 "cells": [
  {
   "cell_type": "markdown",
   "metadata": {},
   "source": [
    "## Interest Rate Prediction \n",
    "\n",
    "We would like to use lending club loans data to explore how the interest rate charged on loans depend upon various factors.\n",
    "\n",
    "#### Objective:\n",
    "\n",
    "We need to predict interest rates based on borrower and loan attributes."
   ]
  },
  {
   "cell_type": "code",
   "execution_count": 1,
   "metadata": {
    "scrolled": true
   },
   "outputs": [
    {
     "name": "stdout",
     "output_type": "stream",
     "text": [
      "Populating the interactive namespace from numpy and matplotlib\n"
     ]
    }
   ],
   "source": [
    "# importing libraries for data manipulation, plotting\n",
    "\n",
    "import pandas as pd\n",
    "import numpy as np\n",
    "import seaborn as sns\n",
    "from matplotlib import pyplot as plt\n",
    "from scipy import stats as stats\n",
    "%pylab inline"
   ]
  },
  {
   "cell_type": "code",
   "execution_count": 2,
   "metadata": {},
   "outputs": [],
   "source": [
    "# importing libraries for stats modeling\n",
    "\n",
    "import statsmodels.formula.api as smf\n",
    "from statsmodels.stats.outliers_influence import variance_inflation_factor\n",
    "from sklearn.model_selection import train_test_split\n",
    "import sklearn.metrics as metrics"
   ]
  },
  {
   "cell_type": "markdown",
   "metadata": {},
   "source": [
    "### Pre-modeling step (Data audit report)"
   ]
  },
  {
   "cell_type": "code",
   "execution_count": 3,
   "metadata": {},
   "outputs": [
    {
     "data": {
      "text/html": [
       "<div>\n",
       "<style scoped>\n",
       "    .dataframe tbody tr th:only-of-type {\n",
       "        vertical-align: middle;\n",
       "    }\n",
       "\n",
       "    .dataframe tbody tr th {\n",
       "        vertical-align: top;\n",
       "    }\n",
       "\n",
       "    .dataframe thead th {\n",
       "        text-align: right;\n",
       "    }\n",
       "</style>\n",
       "<table border=\"1\" class=\"dataframe\">\n",
       "  <thead>\n",
       "    <tr style=\"text-align: right;\">\n",
       "      <th></th>\n",
       "      <th>LoanID</th>\n",
       "      <th>Amount.Requested</th>\n",
       "      <th>Amount.Funded.By.Investors</th>\n",
       "      <th>Interest.Rate</th>\n",
       "      <th>Loan.Length</th>\n",
       "      <th>Loan.Purpose</th>\n",
       "      <th>Debt.To.Income.Ratio</th>\n",
       "      <th>State</th>\n",
       "      <th>Home.Ownership</th>\n",
       "      <th>Monthly.Income</th>\n",
       "      <th>FICO.Range</th>\n",
       "      <th>Open.CREDIT.Lines</th>\n",
       "      <th>Revolving.CREDIT.Balance</th>\n",
       "      <th>Inquiries.in.the.Last.6.Months</th>\n",
       "      <th>Employment.Length</th>\n",
       "    </tr>\n",
       "  </thead>\n",
       "  <tbody>\n",
       "    <tr>\n",
       "      <td>0</td>\n",
       "      <td>1</td>\n",
       "      <td>20000.0</td>\n",
       "      <td>20000.0</td>\n",
       "      <td>8.90%</td>\n",
       "      <td>36 months</td>\n",
       "      <td>debt_consolidation</td>\n",
       "      <td>14.90%</td>\n",
       "      <td>SC</td>\n",
       "      <td>MORTGAGE</td>\n",
       "      <td>6541.67</td>\n",
       "      <td>735-739</td>\n",
       "      <td>14.0</td>\n",
       "      <td>14272.0</td>\n",
       "      <td>2.0</td>\n",
       "      <td>&lt; 1 year</td>\n",
       "    </tr>\n",
       "    <tr>\n",
       "      <td>1</td>\n",
       "      <td>2</td>\n",
       "      <td>19200.0</td>\n",
       "      <td>19200.0</td>\n",
       "      <td>12.12%</td>\n",
       "      <td>36 months</td>\n",
       "      <td>debt_consolidation</td>\n",
       "      <td>28.36%</td>\n",
       "      <td>TX</td>\n",
       "      <td>MORTGAGE</td>\n",
       "      <td>4583.33</td>\n",
       "      <td>715-719</td>\n",
       "      <td>12.0</td>\n",
       "      <td>11140.0</td>\n",
       "      <td>1.0</td>\n",
       "      <td>2 years</td>\n",
       "    </tr>\n",
       "    <tr>\n",
       "      <td>2</td>\n",
       "      <td>3</td>\n",
       "      <td>35000.0</td>\n",
       "      <td>35000.0</td>\n",
       "      <td>21.98%</td>\n",
       "      <td>60 months</td>\n",
       "      <td>debt_consolidation</td>\n",
       "      <td>23.81%</td>\n",
       "      <td>CA</td>\n",
       "      <td>MORTGAGE</td>\n",
       "      <td>11500.00</td>\n",
       "      <td>690-694</td>\n",
       "      <td>14.0</td>\n",
       "      <td>21977.0</td>\n",
       "      <td>1.0</td>\n",
       "      <td>2 years</td>\n",
       "    </tr>\n",
       "    <tr>\n",
       "      <td>3</td>\n",
       "      <td>4</td>\n",
       "      <td>10000.0</td>\n",
       "      <td>9975.0</td>\n",
       "      <td>9.99%</td>\n",
       "      <td>36 months</td>\n",
       "      <td>debt_consolidation</td>\n",
       "      <td>14.30%</td>\n",
       "      <td>KS</td>\n",
       "      <td>MORTGAGE</td>\n",
       "      <td>3833.33</td>\n",
       "      <td>695-699</td>\n",
       "      <td>10.0</td>\n",
       "      <td>9346.0</td>\n",
       "      <td>0.0</td>\n",
       "      <td>5 years</td>\n",
       "    </tr>\n",
       "    <tr>\n",
       "      <td>4</td>\n",
       "      <td>5</td>\n",
       "      <td>12000.0</td>\n",
       "      <td>12000.0</td>\n",
       "      <td>11.71%</td>\n",
       "      <td>36 months</td>\n",
       "      <td>credit_card</td>\n",
       "      <td>18.78%</td>\n",
       "      <td>NJ</td>\n",
       "      <td>RENT</td>\n",
       "      <td>3195.00</td>\n",
       "      <td>695-699</td>\n",
       "      <td>11.0</td>\n",
       "      <td>14469.0</td>\n",
       "      <td>0.0</td>\n",
       "      <td>9 years</td>\n",
       "    </tr>\n",
       "  </tbody>\n",
       "</table>\n",
       "</div>"
      ],
      "text/plain": [
       "   LoanID  Amount.Requested  Amount.Funded.By.Investors Interest.Rate  \\\n",
       "0       1           20000.0                     20000.0         8.90%   \n",
       "1       2           19200.0                     19200.0        12.12%   \n",
       "2       3           35000.0                     35000.0        21.98%   \n",
       "3       4           10000.0                      9975.0         9.99%   \n",
       "4       5           12000.0                     12000.0        11.71%   \n",
       "\n",
       "  Loan.Length        Loan.Purpose Debt.To.Income.Ratio State Home.Ownership  \\\n",
       "0   36 months  debt_consolidation               14.90%    SC       MORTGAGE   \n",
       "1   36 months  debt_consolidation               28.36%    TX       MORTGAGE   \n",
       "2   60 months  debt_consolidation               23.81%    CA       MORTGAGE   \n",
       "3   36 months  debt_consolidation               14.30%    KS       MORTGAGE   \n",
       "4   36 months         credit_card               18.78%    NJ           RENT   \n",
       "\n",
       "   Monthly.Income FICO.Range  Open.CREDIT.Lines  Revolving.CREDIT.Balance  \\\n",
       "0         6541.67    735-739               14.0                   14272.0   \n",
       "1         4583.33    715-719               12.0                   11140.0   \n",
       "2        11500.00    690-694               14.0                   21977.0   \n",
       "3         3833.33    695-699               10.0                    9346.0   \n",
       "4         3195.00    695-699               11.0                   14469.0   \n",
       "\n",
       "   Inquiries.in.the.Last.6.Months Employment.Length  \n",
       "0                             2.0          < 1 year  \n",
       "1                             1.0           2 years  \n",
       "2                             1.0           2 years  \n",
       "3                             0.0           5 years  \n",
       "4                             0.0           9 years  "
      ]
     },
     "execution_count": 3,
     "metadata": {},
     "output_type": "execute_result"
    }
   ],
   "source": [
    "data = pd.read_csv('E:/asubudhi/class/Class_3/3. Peer Group Lending - Predicting Intrest Rates/LoansData.csv')\n",
    "data.head()"
   ]
  },
  {
   "cell_type": "code",
   "execution_count": 4,
   "metadata": {},
   "outputs": [
    {
     "data": {
      "text/html": [
       "<div>\n",
       "<style scoped>\n",
       "    .dataframe tbody tr th:only-of-type {\n",
       "        vertical-align: middle;\n",
       "    }\n",
       "\n",
       "    .dataframe tbody tr th {\n",
       "        vertical-align: top;\n",
       "    }\n",
       "\n",
       "    .dataframe thead th {\n",
       "        text-align: right;\n",
       "    }\n",
       "</style>\n",
       "<table border=\"1\" class=\"dataframe\">\n",
       "  <thead>\n",
       "    <tr style=\"text-align: right;\">\n",
       "      <th></th>\n",
       "      <th>LoanID</th>\n",
       "      <th>Amount.Requested</th>\n",
       "      <th>Amount.Funded.By.Investors</th>\n",
       "      <th>Monthly.Income</th>\n",
       "      <th>Open.CREDIT.Lines</th>\n",
       "      <th>Revolving.CREDIT.Balance</th>\n",
       "      <th>Inquiries.in.the.Last.6.Months</th>\n",
       "    </tr>\n",
       "  </thead>\n",
       "  <tbody>\n",
       "    <tr>\n",
       "      <td>count</td>\n",
       "      <td>2500.00000</td>\n",
       "      <td>2499.000000</td>\n",
       "      <td>2499.000000</td>\n",
       "      <td>2499.000000</td>\n",
       "      <td>2497.000000</td>\n",
       "      <td>2497.000000</td>\n",
       "      <td>2497.000000</td>\n",
       "    </tr>\n",
       "    <tr>\n",
       "      <td>mean</td>\n",
       "      <td>1250.50000</td>\n",
       "      <td>12405.462185</td>\n",
       "      <td>12002.374186</td>\n",
       "      <td>5688.931321</td>\n",
       "      <td>10.072887</td>\n",
       "      <td>15223.184622</td>\n",
       "      <td>0.906688</td>\n",
       "    </tr>\n",
       "    <tr>\n",
       "      <td>std</td>\n",
       "      <td>721.83216</td>\n",
       "      <td>7802.933666</td>\n",
       "      <td>7746.767348</td>\n",
       "      <td>3963.118185</td>\n",
       "      <td>4.507416</td>\n",
       "      <td>18281.015258</td>\n",
       "      <td>1.231149</td>\n",
       "    </tr>\n",
       "    <tr>\n",
       "      <td>min</td>\n",
       "      <td>1.00000</td>\n",
       "      <td>1000.000000</td>\n",
       "      <td>-0.010000</td>\n",
       "      <td>588.500000</td>\n",
       "      <td>2.000000</td>\n",
       "      <td>0.000000</td>\n",
       "      <td>0.000000</td>\n",
       "    </tr>\n",
       "    <tr>\n",
       "      <td>25%</td>\n",
       "      <td>625.75000</td>\n",
       "      <td>6000.000000</td>\n",
       "      <td>6000.000000</td>\n",
       "      <td>3500.000000</td>\n",
       "      <td>7.000000</td>\n",
       "      <td>5584.000000</td>\n",
       "      <td>0.000000</td>\n",
       "    </tr>\n",
       "    <tr>\n",
       "      <td>50%</td>\n",
       "      <td>1250.50000</td>\n",
       "      <td>10000.000000</td>\n",
       "      <td>10000.000000</td>\n",
       "      <td>5000.000000</td>\n",
       "      <td>9.000000</td>\n",
       "      <td>10948.000000</td>\n",
       "      <td>0.000000</td>\n",
       "    </tr>\n",
       "    <tr>\n",
       "      <td>75%</td>\n",
       "      <td>1875.25000</td>\n",
       "      <td>17000.000000</td>\n",
       "      <td>16000.000000</td>\n",
       "      <td>6800.000000</td>\n",
       "      <td>13.000000</td>\n",
       "      <td>18861.000000</td>\n",
       "      <td>1.000000</td>\n",
       "    </tr>\n",
       "    <tr>\n",
       "      <td>max</td>\n",
       "      <td>2500.00000</td>\n",
       "      <td>35000.000000</td>\n",
       "      <td>35000.000000</td>\n",
       "      <td>102750.000000</td>\n",
       "      <td>38.000000</td>\n",
       "      <td>270800.000000</td>\n",
       "      <td>9.000000</td>\n",
       "    </tr>\n",
       "  </tbody>\n",
       "</table>\n",
       "</div>"
      ],
      "text/plain": [
       "           LoanID  Amount.Requested  Amount.Funded.By.Investors  \\\n",
       "count  2500.00000       2499.000000                 2499.000000   \n",
       "mean   1250.50000      12405.462185                12002.374186   \n",
       "std     721.83216       7802.933666                 7746.767348   \n",
       "min       1.00000       1000.000000                   -0.010000   \n",
       "25%     625.75000       6000.000000                 6000.000000   \n",
       "50%    1250.50000      10000.000000                10000.000000   \n",
       "75%    1875.25000      17000.000000                16000.000000   \n",
       "max    2500.00000      35000.000000                35000.000000   \n",
       "\n",
       "       Monthly.Income  Open.CREDIT.Lines  Revolving.CREDIT.Balance  \\\n",
       "count     2499.000000        2497.000000               2497.000000   \n",
       "mean      5688.931321          10.072887              15223.184622   \n",
       "std       3963.118185           4.507416              18281.015258   \n",
       "min        588.500000           2.000000                  0.000000   \n",
       "25%       3500.000000           7.000000               5584.000000   \n",
       "50%       5000.000000           9.000000              10948.000000   \n",
       "75%       6800.000000          13.000000              18861.000000   \n",
       "max     102750.000000          38.000000             270800.000000   \n",
       "\n",
       "       Inquiries.in.the.Last.6.Months  \n",
       "count                     2497.000000  \n",
       "mean                         0.906688  \n",
       "std                          1.231149  \n",
       "min                          0.000000  \n",
       "25%                          0.000000  \n",
       "50%                          0.000000  \n",
       "75%                          1.000000  \n",
       "max                          9.000000  "
      ]
     },
     "execution_count": 4,
     "metadata": {},
     "output_type": "execute_result"
    }
   ],
   "source": [
    "data.describe()"
   ]
  },
  {
   "cell_type": "code",
   "execution_count": 5,
   "metadata": {},
   "outputs": [
    {
     "name": "stdout",
     "output_type": "stream",
     "text": [
      "<class 'pandas.core.frame.DataFrame'>\n",
      "RangeIndex: 2500 entries, 0 to 2499\n",
      "Data columns (total 15 columns):\n",
      "LoanID                            2500 non-null int64\n",
      "Amount.Requested                  2499 non-null float64\n",
      "Amount.Funded.By.Investors        2499 non-null float64\n",
      "Interest.Rate                     2498 non-null object\n",
      "Loan.Length                       2500 non-null object\n",
      "Loan.Purpose                      2500 non-null object\n",
      "Debt.To.Income.Ratio              2499 non-null object\n",
      "State                             2500 non-null object\n",
      "Home.Ownership                    2499 non-null object\n",
      "Monthly.Income                    2499 non-null float64\n",
      "FICO.Range                        2498 non-null object\n",
      "Open.CREDIT.Lines                 2497 non-null float64\n",
      "Revolving.CREDIT.Balance          2497 non-null float64\n",
      "Inquiries.in.the.Last.6.Months    2497 non-null float64\n",
      "Employment.Length                 2423 non-null object\n",
      "dtypes: float64(6), int64(1), object(8)\n",
      "memory usage: 293.1+ KB\n"
     ]
    }
   ],
   "source": [
    "data.info()"
   ]
  },
  {
   "cell_type": "code",
   "execution_count": 18,
   "metadata": {},
   "outputs": [],
   "source": [
    "# To have the complete data audit report instead of using individual functions, we use pandas_profiling.\n",
    "# The result is saved in a html file named ''\n",
    "\n",
    "Pandas_profiling.ProfileReporting(data).to_file('Interest_Rate_Data_Audit_Report.html')"
   ]
  },
  {
   "cell_type": "markdown",
   "metadata": {},
   "source": [
    "### 2 . Modeling\n",
    "#### Data preparation step-1( addressing the issues found in data audit report)"
   ]
  },
  {
   "cell_type": "code",
   "execution_count": 6,
   "metadata": {},
   "outputs": [],
   "source": [
    "# 1. Renaming the variable.\n",
    "\n",
    "s = []\n",
    "for i in data.columns:\n",
    "    x = i.replace('.','_')\n",
    "    s.append(x)"
   ]
  },
  {
   "cell_type": "code",
   "execution_count": 7,
   "metadata": {},
   "outputs": [
    {
     "data": {
      "text/plain": [
       "Index(['LoanID', 'Amount_Requested', 'Amount_Funded_By_Investors',\n",
       "       'Interest_Rate', 'Loan_Length', 'Loan_Purpose', 'Debt_To_Income_Ratio',\n",
       "       'State', 'Home_Ownership', 'Monthly_Income', 'FICO_Range',\n",
       "       'Open_CREDIT_Lines', 'Revolving_CREDIT_Balance',\n",
       "       'Inquiries_in_the_Last_6_Months', 'Employment_Length'],\n",
       "      dtype='object')"
      ]
     },
     "execution_count": 7,
     "metadata": {},
     "output_type": "execute_result"
    }
   ],
   "source": [
    "data.columns = s\n",
    "data.columns"
   ]
  },
  {
   "cell_type": "code",
   "execution_count": 8,
   "metadata": {},
   "outputs": [],
   "source": [
    "# 2. Removing special character which leads to wrong interpretation of data type.\n",
    "\n",
    "data['Interest_Rate'] = data['Interest_Rate'].replace('%','',regex = True)\n",
    "data['Debt_To_Income_Ratio'] = data['Debt_To_Income_Ratio'].replace('%','',regex = True)\n",
    "data['Loan_Length'] = data['Loan_Length'].replace('months','',regex = True)"
   ]
  },
  {
   "cell_type": "code",
   "execution_count": 9,
   "metadata": {},
   "outputs": [
    {
     "data": {
      "text/html": [
       "<div>\n",
       "<style scoped>\n",
       "    .dataframe tbody tr th:only-of-type {\n",
       "        vertical-align: middle;\n",
       "    }\n",
       "\n",
       "    .dataframe tbody tr th {\n",
       "        vertical-align: top;\n",
       "    }\n",
       "\n",
       "    .dataframe thead th {\n",
       "        text-align: right;\n",
       "    }\n",
       "</style>\n",
       "<table border=\"1\" class=\"dataframe\">\n",
       "  <thead>\n",
       "    <tr style=\"text-align: right;\">\n",
       "      <th></th>\n",
       "      <th>LoanID</th>\n",
       "      <th>Amount_Requested</th>\n",
       "      <th>Amount_Funded_By_Investors</th>\n",
       "      <th>Interest_Rate</th>\n",
       "      <th>Loan_Length</th>\n",
       "      <th>Loan_Purpose</th>\n",
       "      <th>Debt_To_Income_Ratio</th>\n",
       "      <th>State</th>\n",
       "      <th>Home_Ownership</th>\n",
       "      <th>Monthly_Income</th>\n",
       "      <th>FICO_Range</th>\n",
       "      <th>Open_CREDIT_Lines</th>\n",
       "      <th>Revolving_CREDIT_Balance</th>\n",
       "      <th>Inquiries_in_the_Last_6_Months</th>\n",
       "      <th>Employment_Length</th>\n",
       "    </tr>\n",
       "  </thead>\n",
       "  <tbody>\n",
       "    <tr>\n",
       "      <td>0</td>\n",
       "      <td>1</td>\n",
       "      <td>20000.0</td>\n",
       "      <td>20000.0</td>\n",
       "      <td>8.90</td>\n",
       "      <td>36</td>\n",
       "      <td>debt_consolidation</td>\n",
       "      <td>14.90</td>\n",
       "      <td>SC</td>\n",
       "      <td>MORTGAGE</td>\n",
       "      <td>6541.67</td>\n",
       "      <td>735-739</td>\n",
       "      <td>14.0</td>\n",
       "      <td>14272.0</td>\n",
       "      <td>2.0</td>\n",
       "      <td>&lt; 1 year</td>\n",
       "    </tr>\n",
       "    <tr>\n",
       "      <td>1</td>\n",
       "      <td>2</td>\n",
       "      <td>19200.0</td>\n",
       "      <td>19200.0</td>\n",
       "      <td>12.12</td>\n",
       "      <td>36</td>\n",
       "      <td>debt_consolidation</td>\n",
       "      <td>28.36</td>\n",
       "      <td>TX</td>\n",
       "      <td>MORTGAGE</td>\n",
       "      <td>4583.33</td>\n",
       "      <td>715-719</td>\n",
       "      <td>12.0</td>\n",
       "      <td>11140.0</td>\n",
       "      <td>1.0</td>\n",
       "      <td>2 years</td>\n",
       "    </tr>\n",
       "    <tr>\n",
       "      <td>2</td>\n",
       "      <td>3</td>\n",
       "      <td>35000.0</td>\n",
       "      <td>35000.0</td>\n",
       "      <td>21.98</td>\n",
       "      <td>60</td>\n",
       "      <td>debt_consolidation</td>\n",
       "      <td>23.81</td>\n",
       "      <td>CA</td>\n",
       "      <td>MORTGAGE</td>\n",
       "      <td>11500.00</td>\n",
       "      <td>690-694</td>\n",
       "      <td>14.0</td>\n",
       "      <td>21977.0</td>\n",
       "      <td>1.0</td>\n",
       "      <td>2 years</td>\n",
       "    </tr>\n",
       "    <tr>\n",
       "      <td>3</td>\n",
       "      <td>4</td>\n",
       "      <td>10000.0</td>\n",
       "      <td>9975.0</td>\n",
       "      <td>9.99</td>\n",
       "      <td>36</td>\n",
       "      <td>debt_consolidation</td>\n",
       "      <td>14.30</td>\n",
       "      <td>KS</td>\n",
       "      <td>MORTGAGE</td>\n",
       "      <td>3833.33</td>\n",
       "      <td>695-699</td>\n",
       "      <td>10.0</td>\n",
       "      <td>9346.0</td>\n",
       "      <td>0.0</td>\n",
       "      <td>5 years</td>\n",
       "    </tr>\n",
       "    <tr>\n",
       "      <td>4</td>\n",
       "      <td>5</td>\n",
       "      <td>12000.0</td>\n",
       "      <td>12000.0</td>\n",
       "      <td>11.71</td>\n",
       "      <td>36</td>\n",
       "      <td>credit_card</td>\n",
       "      <td>18.78</td>\n",
       "      <td>NJ</td>\n",
       "      <td>RENT</td>\n",
       "      <td>3195.00</td>\n",
       "      <td>695-699</td>\n",
       "      <td>11.0</td>\n",
       "      <td>14469.0</td>\n",
       "      <td>0.0</td>\n",
       "      <td>9 years</td>\n",
       "    </tr>\n",
       "  </tbody>\n",
       "</table>\n",
       "</div>"
      ],
      "text/plain": [
       "   LoanID  Amount_Requested  Amount_Funded_By_Investors Interest_Rate  \\\n",
       "0       1           20000.0                     20000.0          8.90   \n",
       "1       2           19200.0                     19200.0         12.12   \n",
       "2       3           35000.0                     35000.0         21.98   \n",
       "3       4           10000.0                      9975.0          9.99   \n",
       "4       5           12000.0                     12000.0         11.71   \n",
       "\n",
       "  Loan_Length        Loan_Purpose Debt_To_Income_Ratio State Home_Ownership  \\\n",
       "0         36   debt_consolidation                14.90    SC       MORTGAGE   \n",
       "1         36   debt_consolidation                28.36    TX       MORTGAGE   \n",
       "2         60   debt_consolidation                23.81    CA       MORTGAGE   \n",
       "3         36   debt_consolidation                14.30    KS       MORTGAGE   \n",
       "4         36          credit_card                18.78    NJ           RENT   \n",
       "\n",
       "   Monthly_Income FICO_Range  Open_CREDIT_Lines  Revolving_CREDIT_Balance  \\\n",
       "0         6541.67    735-739               14.0                   14272.0   \n",
       "1         4583.33    715-719               12.0                   11140.0   \n",
       "2        11500.00    690-694               14.0                   21977.0   \n",
       "3         3833.33    695-699               10.0                    9346.0   \n",
       "4         3195.00    695-699               11.0                   14469.0   \n",
       "\n",
       "   Inquiries_in_the_Last_6_Months Employment_Length  \n",
       "0                             2.0          < 1 year  \n",
       "1                             1.0           2 years  \n",
       "2                             1.0           2 years  \n",
       "3                             0.0           5 years  \n",
       "4                             0.0           9 years  "
      ]
     },
     "execution_count": 9,
     "metadata": {},
     "output_type": "execute_result"
    }
   ],
   "source": [
    "data.head()"
   ]
  },
  {
   "cell_type": "code",
   "execution_count": 10,
   "metadata": {},
   "outputs": [],
   "source": [
    "data['Employment_Length'] = data['Employment_Length'].str.replace('<','',regex = True)\n",
    "data['Employment_Length'] = data['Employment_Length'].str.replace('+','',regex = True)\n",
    "data['Employment_Length'] = data['Employment_Length'].str.replace('years','',regex = True)\n",
    "data['Employment_Length'] = data['Employment_Length'].str.replace('year','',regex = True)"
   ]
  },
  {
   "cell_type": "code",
   "execution_count": 11,
   "metadata": {},
   "outputs": [
    {
     "data": {
      "text/html": [
       "<div>\n",
       "<style scoped>\n",
       "    .dataframe tbody tr th:only-of-type {\n",
       "        vertical-align: middle;\n",
       "    }\n",
       "\n",
       "    .dataframe tbody tr th {\n",
       "        vertical-align: top;\n",
       "    }\n",
       "\n",
       "    .dataframe thead th {\n",
       "        text-align: right;\n",
       "    }\n",
       "</style>\n",
       "<table border=\"1\" class=\"dataframe\">\n",
       "  <thead>\n",
       "    <tr style=\"text-align: right;\">\n",
       "      <th></th>\n",
       "      <th>LoanID</th>\n",
       "      <th>Amount_Requested</th>\n",
       "      <th>Amount_Funded_By_Investors</th>\n",
       "      <th>Interest_Rate</th>\n",
       "      <th>Loan_Length</th>\n",
       "      <th>Loan_Purpose</th>\n",
       "      <th>Debt_To_Income_Ratio</th>\n",
       "      <th>State</th>\n",
       "      <th>Home_Ownership</th>\n",
       "      <th>Monthly_Income</th>\n",
       "      <th>FICO_Range</th>\n",
       "      <th>Open_CREDIT_Lines</th>\n",
       "      <th>Revolving_CREDIT_Balance</th>\n",
       "      <th>Inquiries_in_the_Last_6_Months</th>\n",
       "      <th>Employment_Length</th>\n",
       "    </tr>\n",
       "  </thead>\n",
       "  <tbody>\n",
       "    <tr>\n",
       "      <td>0</td>\n",
       "      <td>1</td>\n",
       "      <td>20000.0</td>\n",
       "      <td>20000.0</td>\n",
       "      <td>8.90</td>\n",
       "      <td>36</td>\n",
       "      <td>debt_consolidation</td>\n",
       "      <td>14.90</td>\n",
       "      <td>SC</td>\n",
       "      <td>MORTGAGE</td>\n",
       "      <td>6541.67</td>\n",
       "      <td>735-739</td>\n",
       "      <td>14.0</td>\n",
       "      <td>14272.0</td>\n",
       "      <td>2.0</td>\n",
       "      <td>1</td>\n",
       "    </tr>\n",
       "    <tr>\n",
       "      <td>1</td>\n",
       "      <td>2</td>\n",
       "      <td>19200.0</td>\n",
       "      <td>19200.0</td>\n",
       "      <td>12.12</td>\n",
       "      <td>36</td>\n",
       "      <td>debt_consolidation</td>\n",
       "      <td>28.36</td>\n",
       "      <td>TX</td>\n",
       "      <td>MORTGAGE</td>\n",
       "      <td>4583.33</td>\n",
       "      <td>715-719</td>\n",
       "      <td>12.0</td>\n",
       "      <td>11140.0</td>\n",
       "      <td>1.0</td>\n",
       "      <td>2</td>\n",
       "    </tr>\n",
       "    <tr>\n",
       "      <td>2</td>\n",
       "      <td>3</td>\n",
       "      <td>35000.0</td>\n",
       "      <td>35000.0</td>\n",
       "      <td>21.98</td>\n",
       "      <td>60</td>\n",
       "      <td>debt_consolidation</td>\n",
       "      <td>23.81</td>\n",
       "      <td>CA</td>\n",
       "      <td>MORTGAGE</td>\n",
       "      <td>11500.00</td>\n",
       "      <td>690-694</td>\n",
       "      <td>14.0</td>\n",
       "      <td>21977.0</td>\n",
       "      <td>1.0</td>\n",
       "      <td>2</td>\n",
       "    </tr>\n",
       "    <tr>\n",
       "      <td>3</td>\n",
       "      <td>4</td>\n",
       "      <td>10000.0</td>\n",
       "      <td>9975.0</td>\n",
       "      <td>9.99</td>\n",
       "      <td>36</td>\n",
       "      <td>debt_consolidation</td>\n",
       "      <td>14.30</td>\n",
       "      <td>KS</td>\n",
       "      <td>MORTGAGE</td>\n",
       "      <td>3833.33</td>\n",
       "      <td>695-699</td>\n",
       "      <td>10.0</td>\n",
       "      <td>9346.0</td>\n",
       "      <td>0.0</td>\n",
       "      <td>5</td>\n",
       "    </tr>\n",
       "    <tr>\n",
       "      <td>4</td>\n",
       "      <td>5</td>\n",
       "      <td>12000.0</td>\n",
       "      <td>12000.0</td>\n",
       "      <td>11.71</td>\n",
       "      <td>36</td>\n",
       "      <td>credit_card</td>\n",
       "      <td>18.78</td>\n",
       "      <td>NJ</td>\n",
       "      <td>RENT</td>\n",
       "      <td>3195.00</td>\n",
       "      <td>695-699</td>\n",
       "      <td>11.0</td>\n",
       "      <td>14469.0</td>\n",
       "      <td>0.0</td>\n",
       "      <td>9</td>\n",
       "    </tr>\n",
       "  </tbody>\n",
       "</table>\n",
       "</div>"
      ],
      "text/plain": [
       "   LoanID  Amount_Requested  Amount_Funded_By_Investors Interest_Rate  \\\n",
       "0       1           20000.0                     20000.0          8.90   \n",
       "1       2           19200.0                     19200.0         12.12   \n",
       "2       3           35000.0                     35000.0         21.98   \n",
       "3       4           10000.0                      9975.0          9.99   \n",
       "4       5           12000.0                     12000.0         11.71   \n",
       "\n",
       "  Loan_Length        Loan_Purpose Debt_To_Income_Ratio State Home_Ownership  \\\n",
       "0         36   debt_consolidation                14.90    SC       MORTGAGE   \n",
       "1         36   debt_consolidation                28.36    TX       MORTGAGE   \n",
       "2         60   debt_consolidation                23.81    CA       MORTGAGE   \n",
       "3         36   debt_consolidation                14.30    KS       MORTGAGE   \n",
       "4         36          credit_card                18.78    NJ           RENT   \n",
       "\n",
       "   Monthly_Income FICO_Range  Open_CREDIT_Lines  Revolving_CREDIT_Balance  \\\n",
       "0         6541.67    735-739               14.0                   14272.0   \n",
       "1         4583.33    715-719               12.0                   11140.0   \n",
       "2        11500.00    690-694               14.0                   21977.0   \n",
       "3         3833.33    695-699               10.0                    9346.0   \n",
       "4         3195.00    695-699               11.0                   14469.0   \n",
       "\n",
       "   Inquiries_in_the_Last_6_Months Employment_Length  \n",
       "0                             2.0                1   \n",
       "1                             1.0                2   \n",
       "2                             1.0                2   \n",
       "3                             0.0                5   \n",
       "4                             0.0                9   "
      ]
     },
     "execution_count": 11,
     "metadata": {},
     "output_type": "execute_result"
    }
   ],
   "source": [
    "data.head()"
   ]
  },
  {
   "cell_type": "code",
   "execution_count": 12,
   "metadata": {},
   "outputs": [],
   "source": [
    "a = data.FICO_Range.str.split('-',expand = True)[0].astype(float)\n",
    "b = data.FICO_Range.str.split('-',expand = True)[1].astype(float)\n",
    "data['ficoavg'] = (a+b)/2"
   ]
  },
  {
   "cell_type": "code",
   "execution_count": 13,
   "metadata": {},
   "outputs": [
    {
     "name": "stdout",
     "output_type": "stream",
     "text": [
      "<class 'pandas.core.frame.DataFrame'>\n",
      "RangeIndex: 2500 entries, 0 to 2499\n",
      "Data columns (total 16 columns):\n",
      "LoanID                            2500 non-null int64\n",
      "Amount_Requested                  2499 non-null float64\n",
      "Amount_Funded_By_Investors        2499 non-null float64\n",
      "Interest_Rate                     2498 non-null float64\n",
      "Loan_Length                       2500 non-null float64\n",
      "Loan_Purpose                      2500 non-null object\n",
      "Debt_To_Income_Ratio              2499 non-null float64\n",
      "State                             2500 non-null object\n",
      "Home_Ownership                    2499 non-null object\n",
      "Monthly_Income                    2499 non-null float64\n",
      "FICO_Range                        2498 non-null object\n",
      "Open_CREDIT_Lines                 2497 non-null float64\n",
      "Revolving_CREDIT_Balance          2497 non-null float64\n",
      "Inquiries_in_the_Last_6_Months    2497 non-null float64\n",
      "Employment_Length                 2423 non-null float64\n",
      "ficoavg                           2498 non-null float64\n",
      "dtypes: float64(11), int64(1), object(4)\n",
      "memory usage: 312.6+ KB\n"
     ]
    }
   ],
   "source": [
    "# 3. converting the wrongly interpreted data types into correct data type.\n",
    "\n",
    "data['Interest_Rate'] = data['Interest_Rate'].astype(float)\n",
    "data['Debt_To_Income_Ratio'] = data['Debt_To_Income_Ratio'].astype(float)\n",
    "data['Loan_Length'] = data['Loan_Length'].astype(float)\n",
    "data['Employment_Length'] = data['Employment_Length'].astype(float)\n",
    "data.info()"
   ]
  },
  {
   "cell_type": "code",
   "execution_count": 14,
   "metadata": {},
   "outputs": [],
   "source": [
    "# 4. Drop the variables which are not necessary (variables having unique value etc.).\n",
    "\n",
    "data.drop(['LoanID','Amount_Funded_By_Investors','State','FICO_Range'], axis = 1, inplace = True)"
   ]
  },
  {
   "cell_type": "code",
   "execution_count": 15,
   "metadata": {},
   "outputs": [],
   "source": [
    "# 5. Converting nominal categorical variables into continous variables\n",
    "\n",
    "dummy_var = pd.get_dummies(data[['Loan_Purpose','Home_Ownership']],drop_first = True)\n",
    "data_new = pd.concat([data,dummy_var], axis=1)"
   ]
  },
  {
   "cell_type": "code",
   "execution_count": 16,
   "metadata": {},
   "outputs": [],
   "source": [
    "# After convertion drop the original categorical variables.\n",
    "\n",
    "data_new.drop(['Loan_Purpose', 'Home_Ownership'], axis=1, inplace=True)"
   ]
  },
  {
   "cell_type": "code",
   "execution_count": 17,
   "metadata": {},
   "outputs": [],
   "source": [
    "# 6. Outliers detection and treatment\n",
    "\n",
    "def outliers_treat(x):\n",
    "    x = x.clip_upper(x.quantile(0.99))\n",
    "    x = x.clip_lower(x.quantile(0.01))\n",
    "    return x"
   ]
  },
  {
   "cell_type": "code",
   "execution_count": 18,
   "metadata": {},
   "outputs": [
    {
     "name": "stderr",
     "output_type": "stream",
     "text": [
      "C:\\Users\\DELL\\Anaconda3\\lib\\site-packages\\ipykernel_launcher.py:4: FutureWarning: clip_upper(threshold) is deprecated, use clip(upper=threshold) instead\n",
      "  after removing the cwd from sys.path.\n",
      "C:\\Users\\DELL\\Anaconda3\\lib\\site-packages\\ipykernel_launcher.py:5: FutureWarning: clip_lower(threshold) is deprecated, use clip(lower=threshold) instead\n",
      "  \"\"\"\n"
     ]
    }
   ],
   "source": [
    "data_new = data_new.apply(outliers_treat)"
   ]
  },
  {
   "cell_type": "code",
   "execution_count": 19,
   "metadata": {},
   "outputs": [
    {
     "data": {
      "text/plain": [
       "Amount_Requested                    1\n",
       "Interest_Rate                       2\n",
       "Loan_Length                         0\n",
       "Debt_To_Income_Ratio                1\n",
       "Monthly_Income                      1\n",
       "Open_CREDIT_Lines                   3\n",
       "Revolving_CREDIT_Balance            3\n",
       "Inquiries_in_the_Last_6_Months      3\n",
       "Employment_Length                  77\n",
       "ficoavg                             2\n",
       "Loan_Purpose_credit_card            0\n",
       "Loan_Purpose_debt_consolidation     0\n",
       "Loan_Purpose_educational            0\n",
       "Loan_Purpose_home_improvement       0\n",
       "Loan_Purpose_house                  0\n",
       "Loan_Purpose_major_purchase         0\n",
       "Loan_Purpose_medical                0\n",
       "Loan_Purpose_moving                 0\n",
       "Loan_Purpose_other                  0\n",
       "Loan_Purpose_renewable_energy       0\n",
       "Loan_Purpose_small_business         0\n",
       "Loan_Purpose_vacation               0\n",
       "Loan_Purpose_wedding                0\n",
       "Home_Ownership_NONE                 0\n",
       "Home_Ownership_OTHER                0\n",
       "Home_Ownership_OWN                  0\n",
       "Home_Ownership_RENT                 0\n",
       "dtype: int64"
      ]
     },
     "execution_count": 19,
     "metadata": {},
     "output_type": "execute_result"
    }
   ],
   "source": [
    "# 7. Missing Values detection and Treatment\n",
    "\n",
    "data_new.apply(lambda x: sum(x.isnull()))"
   ]
  },
  {
   "cell_type": "code",
   "execution_count": 20,
   "metadata": {},
   "outputs": [],
   "source": [
    "# Based on missing values(77 out of 2500) in employment length column we can drop that column\n",
    "data_new.drop(['Employment_Length'], axis = 1, inplace = True)"
   ]
  },
  {
   "cell_type": "code",
   "execution_count": 21,
   "metadata": {},
   "outputs": [],
   "source": [
    "def missing_treat(x):\n",
    "    x = x.fillna(x.median())\n",
    "    return x"
   ]
  },
  {
   "cell_type": "code",
   "execution_count": 22,
   "metadata": {},
   "outputs": [],
   "source": [
    "data_new = data_new.apply(missing_treat)"
   ]
  },
  {
   "cell_type": "code",
   "execution_count": 23,
   "metadata": {},
   "outputs": [
    {
     "data": {
      "text/plain": [
       "Amount_Requested                   0\n",
       "Interest_Rate                      0\n",
       "Loan_Length                        0\n",
       "Debt_To_Income_Ratio               0\n",
       "Monthly_Income                     0\n",
       "Open_CREDIT_Lines                  0\n",
       "Revolving_CREDIT_Balance           0\n",
       "Inquiries_in_the_Last_6_Months     0\n",
       "ficoavg                            0\n",
       "Loan_Purpose_credit_card           0\n",
       "Loan_Purpose_debt_consolidation    0\n",
       "Loan_Purpose_educational           0\n",
       "Loan_Purpose_home_improvement      0\n",
       "Loan_Purpose_house                 0\n",
       "Loan_Purpose_major_purchase        0\n",
       "Loan_Purpose_medical               0\n",
       "Loan_Purpose_moving                0\n",
       "Loan_Purpose_other                 0\n",
       "Loan_Purpose_renewable_energy      0\n",
       "Loan_Purpose_small_business        0\n",
       "Loan_Purpose_vacation              0\n",
       "Loan_Purpose_wedding               0\n",
       "Home_Ownership_NONE                0\n",
       "Home_Ownership_OTHER               0\n",
       "Home_Ownership_OWN                 0\n",
       "Home_Ownership_RENT                0\n",
       "dtype: int64"
      ]
     },
     "execution_count": 23,
     "metadata": {},
     "output_type": "execute_result"
    }
   ],
   "source": [
    "data_new.apply(lambda x: sum(x.isnull()))"
   ]
  },
  {
   "cell_type": "code",
   "execution_count": 24,
   "metadata": {},
   "outputs": [],
   "source": [
    "# 8. Remove variable based on coefficient of variance of the variables. if (cv < 0.1)\n",
    "data_new.drop(['Loan_Purpose_educational','Home_Ownership_OTHER','Home_Ownership_NONE','Loan_Purpose_vacation','Loan_Purpose_renewable_energy','Loan_Purpose_house'],axis = 1, inplace = True)"
   ]
  },
  {
   "cell_type": "code",
   "execution_count": 25,
   "metadata": {},
   "outputs": [
    {
     "name": "stdout",
     "output_type": "stream",
     "text": [
      "<class 'pandas.core.frame.DataFrame'>\n",
      "RangeIndex: 2500 entries, 0 to 2499\n",
      "Data columns (total 20 columns):\n",
      "Amount_Requested                   2500 non-null float64\n",
      "Interest_Rate                      2500 non-null float64\n",
      "Loan_Length                        2500 non-null float64\n",
      "Debt_To_Income_Ratio               2500 non-null float64\n",
      "Monthly_Income                     2500 non-null float64\n",
      "Open_CREDIT_Lines                  2500 non-null float64\n",
      "Revolving_CREDIT_Balance           2500 non-null float64\n",
      "Inquiries_in_the_Last_6_Months     2500 non-null float64\n",
      "ficoavg                            2500 non-null float64\n",
      "Loan_Purpose_credit_card           2500 non-null uint8\n",
      "Loan_Purpose_debt_consolidation    2500 non-null uint8\n",
      "Loan_Purpose_home_improvement      2500 non-null uint8\n",
      "Loan_Purpose_major_purchase        2500 non-null uint8\n",
      "Loan_Purpose_medical               2500 non-null uint8\n",
      "Loan_Purpose_moving                2500 non-null uint8\n",
      "Loan_Purpose_other                 2500 non-null uint8\n",
      "Loan_Purpose_small_business        2500 non-null uint8\n",
      "Loan_Purpose_wedding               2500 non-null uint8\n",
      "Home_Ownership_OWN                 2500 non-null uint8\n",
      "Home_Ownership_RENT                2500 non-null uint8\n",
      "dtypes: float64(9), uint8(11)\n",
      "memory usage: 202.8 KB\n"
     ]
    }
   ],
   "source": [
    "data_new.info()"
   ]
  },
  {
   "cell_type": "markdown",
   "metadata": {},
   "source": [
    "#### Moving to data preparation part 2 (checking the assumption of the techniques - here it is linear regression technique)"
   ]
  },
  {
   "cell_type": "code",
   "execution_count": 26,
   "metadata": {},
   "outputs": [
    {
     "data": {
      "text/plain": [
       "<matplotlib.axes._subplots.AxesSubplot at 0xf475a59b48>"
      ]
     },
     "execution_count": 26,
     "metadata": {},
     "output_type": "execute_result"
    },
    {
     "data": {
      "image/png": "[encoded data removed]",
      "text/plain": [
       "<Figure size 432x288 with 1 Axes>"
      ]
     },
     "metadata": {
      "needs_background": "light"
     },
     "output_type": "display_data"
    }
   ],
   "source": [
    "# 1. Normality (Y - variable/ dependable variable is normally distributed)\n",
    "\n",
    "import seaborn as sns\n",
    "sns.distplot(data_new.Interest_Rate)"
   ]
  },
  {
   "cell_type": "code",
   "execution_count": 27,
   "metadata": {},
   "outputs": [],
   "source": [
    "ln_Interest_Rate = np.log(data_new.Interest_Rate)"
   ]
  },
  {
   "cell_type": "code",
   "execution_count": 28,
   "metadata": {},
   "outputs": [
    {
     "data": {
      "text/plain": [
       "<matplotlib.axes._subplots.AxesSubplot at 0xf47a46aa48>"
      ]
     },
     "execution_count": 28,
     "metadata": {},
     "output_type": "execute_result"
    },
    {
     "data": {
      "image/png": "[encoded data removed]",
      "text/plain": [
       "<Figure size 432x288 with 1 Axes>"
      ]
     },
     "metadata": {
      "needs_background": "light"
     },
     "output_type": "display_data"
    }
   ],
   "source": [
    "sns.distplot(ln_Interest_Rate)"
   ]
  },
  {
   "cell_type": "code",
   "execution_count": 30,
   "metadata": {},
   "outputs": [
    {
     "data": {
      "text/plain": [
       "<matplotlib.axes._subplots.AxesSubplot at 0xf47b120c88>"
      ]
     },
     "execution_count": 30,
     "metadata": {},
     "output_type": "execute_result"
    },
    {
     "data": {
      "image/png": "[encoded data removed]",
      "text/plain": [
       "<Figure size 432x288 with 2 Axes>"
      ]
     },
     "metadata": {
      "needs_background": "light"
     },
     "output_type": "display_data"
    }
   ],
   "source": [
    "# 2. Linearity (relationship between y and x variable should be linear)\n",
    "# The result is saved in a csv file name 'Interest_Rate_Correlation.csv'.\n",
    "\n",
    "corr_matrix = data_new.corr()\n",
    "corr_matrix.to_csv('Interest_Rate_Correlation.csv')\n",
    "sns.heatmap(corr_matrix)"
   ]
  },
  {
   "cell_type": "code",
   "execution_count": 31,
   "metadata": {},
   "outputs": [],
   "source": [
    "#Based on correlation metrics and correlation between Y & X, the below variables can be considered\n",
    "#feature is a dataframe\n",
    "features = data_new[['Amount_Requested', 'Loan_Length', 'Debt_To_Income_Ratio', 'Open_CREDIT_Lines', 'Revolving_CREDIT_Balance', 'Inquiries_in_the_Last_6_Months', 'ficoavg', 'Loan_Purpose_debt_consolidation', 'Loan_Purpose_home_improvement', 'Loan_Purpose_major_purchase']]"
   ]
  },
  {
   "cell_type": "code",
   "execution_count": 32,
   "metadata": {},
   "outputs": [],
   "source": [
    "# Target is also a dataframe\n",
    "target = data_new[['Interest_Rate']]"
   ]
  },
  {
   "cell_type": "code",
   "execution_count": 33,
   "metadata": {},
   "outputs": [],
   "source": [
    "# 3. Multicollinearity (checks if there is relationship among x variables)\n",
    "\n",
    "vif = pd.DataFrame()\n",
    "vif[\"VIF Factor\"] = [variance_inflation_factor(features.values, i) for i in range(features.shape[1])]\n",
    "vif[\"features\"] = features.columns"
   ]
  },
  {
   "cell_type": "code",
   "execution_count": 34,
   "metadata": {},
   "outputs": [
    {
     "data": {
      "text/html": [
       "<div>\n",
       "<style scoped>\n",
       "    .dataframe tbody tr th:only-of-type {\n",
       "        vertical-align: middle;\n",
       "    }\n",
       "\n",
       "    .dataframe tbody tr th {\n",
       "        vertical-align: top;\n",
       "    }\n",
       "\n",
       "    .dataframe thead th {\n",
       "        text-align: right;\n",
       "    }\n",
       "</style>\n",
       "<table border=\"1\" class=\"dataframe\">\n",
       "  <thead>\n",
       "    <tr style=\"text-align: right;\">\n",
       "      <th></th>\n",
       "      <th>VIF Factor</th>\n",
       "      <th>features</th>\n",
       "    </tr>\n",
       "  </thead>\n",
       "  <tbody>\n",
       "    <tr>\n",
       "      <td>0</td>\n",
       "      <td>5.036991</td>\n",
       "      <td>Amount_Requested</td>\n",
       "    </tr>\n",
       "    <tr>\n",
       "      <td>1</td>\n",
       "      <td>21.352880</td>\n",
       "      <td>Loan_Length</td>\n",
       "    </tr>\n",
       "    <tr>\n",
       "      <td>2</td>\n",
       "      <td>6.158677</td>\n",
       "      <td>Debt_To_Income_Ratio</td>\n",
       "    </tr>\n",
       "    <tr>\n",
       "      <td>3</td>\n",
       "      <td>7.950127</td>\n",
       "      <td>Open_CREDIT_Lines</td>\n",
       "    </tr>\n",
       "    <tr>\n",
       "      <td>4</td>\n",
       "      <td>2.501806</td>\n",
       "      <td>Revolving_CREDIT_Balance</td>\n",
       "    </tr>\n",
       "    <tr>\n",
       "      <td>5</td>\n",
       "      <td>1.630271</td>\n",
       "      <td>Inquiries_in_the_Last_6_Months</td>\n",
       "    </tr>\n",
       "    <tr>\n",
       "      <td>6</td>\n",
       "      <td>23.497865</td>\n",
       "      <td>ficoavg</td>\n",
       "    </tr>\n",
       "    <tr>\n",
       "      <td>7</td>\n",
       "      <td>2.481623</td>\n",
       "      <td>Loan_Purpose_debt_consolidation</td>\n",
       "    </tr>\n",
       "    <tr>\n",
       "      <td>8</td>\n",
       "      <td>1.187172</td>\n",
       "      <td>Loan_Purpose_home_improvement</td>\n",
       "    </tr>\n",
       "    <tr>\n",
       "      <td>9</td>\n",
       "      <td>1.129724</td>\n",
       "      <td>Loan_Purpose_major_purchase</td>\n",
       "    </tr>\n",
       "  </tbody>\n",
       "</table>\n",
       "</div>"
      ],
      "text/plain": [
       "   VIF Factor                         features\n",
       "0    5.036991                 Amount_Requested\n",
       "1   21.352880                      Loan_Length\n",
       "2    6.158677             Debt_To_Income_Ratio\n",
       "3    7.950127                Open_CREDIT_Lines\n",
       "4    2.501806         Revolving_CREDIT_Balance\n",
       "5    1.630271   Inquiries_in_the_Last_6_Months\n",
       "6   23.497865                          ficoavg\n",
       "7    2.481623  Loan_Purpose_debt_consolidation\n",
       "8    1.187172    Loan_Purpose_home_improvement\n",
       "9    1.129724      Loan_Purpose_major_purchase"
      ]
     },
     "execution_count": 34,
     "metadata": {},
     "output_type": "execute_result"
    }
   ],
   "source": [
    "vif"
   ]
  },
  {
   "cell_type": "code",
   "execution_count": 35,
   "metadata": {},
   "outputs": [
    {
     "name": "stderr",
     "output_type": "stream",
     "text": [
      "C:\\Users\\DELL\\Anaconda3\\lib\\site-packages\\pandas\\core\\frame.py:4102: SettingWithCopyWarning: \n",
      "A value is trying to be set on a copy of a slice from a DataFrame\n",
      "\n",
      "See the caveats in the documentation: http://pandas.pydata.org/pandas-docs/stable/user_guide/indexing.html#returning-a-view-versus-a-copy\n",
      "  errors=errors,\n"
     ]
    }
   ],
   "source": [
    "# Based on VIF(Multicollinearity check) we can drop Open_CREDIT_Lines variable but not Loan_length and ficoavg because they have more correlation values with interest rate\n",
    "features.drop(['Open_CREDIT_Lines'], axis = 1, inplace = True)"
   ]
  },
  {
   "cell_type": "code",
   "execution_count": 36,
   "metadata": {},
   "outputs": [
    {
     "data": {
      "text/html": [
       "<div>\n",
       "<style scoped>\n",
       "    .dataframe tbody tr th:only-of-type {\n",
       "        vertical-align: middle;\n",
       "    }\n",
       "\n",
       "    .dataframe tbody tr th {\n",
       "        vertical-align: top;\n",
       "    }\n",
       "\n",
       "    .dataframe thead th {\n",
       "        text-align: right;\n",
       "    }\n",
       "</style>\n",
       "<table border=\"1\" class=\"dataframe\">\n",
       "  <thead>\n",
       "    <tr style=\"text-align: right;\">\n",
       "      <th></th>\n",
       "      <th>VIF Factor</th>\n",
       "      <th>features</th>\n",
       "    </tr>\n",
       "  </thead>\n",
       "  <tbody>\n",
       "    <tr>\n",
       "      <td>0</td>\n",
       "      <td>4.994569</td>\n",
       "      <td>Amount_Requested</td>\n",
       "    </tr>\n",
       "    <tr>\n",
       "      <td>1</td>\n",
       "      <td>21.347870</td>\n",
       "      <td>Loan_Length</td>\n",
       "    </tr>\n",
       "    <tr>\n",
       "      <td>2</td>\n",
       "      <td>5.437426</td>\n",
       "      <td>Debt_To_Income_Ratio</td>\n",
       "    </tr>\n",
       "    <tr>\n",
       "      <td>3</td>\n",
       "      <td>2.385189</td>\n",
       "      <td>Revolving_CREDIT_Balance</td>\n",
       "    </tr>\n",
       "    <tr>\n",
       "      <td>4</td>\n",
       "      <td>1.602640</td>\n",
       "      <td>Inquiries_in_the_Last_6_Months</td>\n",
       "    </tr>\n",
       "    <tr>\n",
       "      <td>5</td>\n",
       "      <td>21.707124</td>\n",
       "      <td>ficoavg</td>\n",
       "    </tr>\n",
       "    <tr>\n",
       "      <td>6</td>\n",
       "      <td>2.479464</td>\n",
       "      <td>Loan_Purpose_debt_consolidation</td>\n",
       "    </tr>\n",
       "    <tr>\n",
       "      <td>7</td>\n",
       "      <td>1.187172</td>\n",
       "      <td>Loan_Purpose_home_improvement</td>\n",
       "    </tr>\n",
       "    <tr>\n",
       "      <td>8</td>\n",
       "      <td>1.129667</td>\n",
       "      <td>Loan_Purpose_major_purchase</td>\n",
       "    </tr>\n",
       "  </tbody>\n",
       "</table>\n",
       "</div>"
      ],
      "text/plain": [
       "   VIF Factor                         features\n",
       "0    4.994569                 Amount_Requested\n",
       "1   21.347870                      Loan_Length\n",
       "2    5.437426             Debt_To_Income_Ratio\n",
       "3    2.385189         Revolving_CREDIT_Balance\n",
       "4    1.602640   Inquiries_in_the_Last_6_Months\n",
       "5   21.707124                          ficoavg\n",
       "6    2.479464  Loan_Purpose_debt_consolidation\n",
       "7    1.187172    Loan_Purpose_home_improvement\n",
       "8    1.129667      Loan_Purpose_major_purchase"
      ]
     },
     "execution_count": 36,
     "metadata": {},
     "output_type": "execute_result"
    }
   ],
   "source": [
    "vif = pd.DataFrame()\n",
    "vif[\"VIF Factor\"] = [variance_inflation_factor(features.values, i) for i in range(features.shape[1])]\n",
    "vif[\"features\"] = features.columns\n",
    "vif"
   ]
  },
  {
   "cell_type": "code",
   "execution_count": 37,
   "metadata": {},
   "outputs": [],
   "source": [
    "features.drop(['Debt_To_Income_Ratio'], axis = 1, inplace = True)"
   ]
  },
  {
   "cell_type": "code",
   "execution_count": 38,
   "metadata": {},
   "outputs": [
    {
     "data": {
      "text/html": [
       "<div>\n",
       "<style scoped>\n",
       "    .dataframe tbody tr th:only-of-type {\n",
       "        vertical-align: middle;\n",
       "    }\n",
       "\n",
       "    .dataframe tbody tr th {\n",
       "        vertical-align: top;\n",
       "    }\n",
       "\n",
       "    .dataframe thead th {\n",
       "        text-align: right;\n",
       "    }\n",
       "</style>\n",
       "<table border=\"1\" class=\"dataframe\">\n",
       "  <thead>\n",
       "    <tr style=\"text-align: right;\">\n",
       "      <th></th>\n",
       "      <th>VIF Factor</th>\n",
       "      <th>features</th>\n",
       "    </tr>\n",
       "  </thead>\n",
       "  <tbody>\n",
       "    <tr>\n",
       "      <td>0</td>\n",
       "      <td>4.989693</td>\n",
       "      <td>Amount_Requested</td>\n",
       "    </tr>\n",
       "    <tr>\n",
       "      <td>1</td>\n",
       "      <td>21.261084</td>\n",
       "      <td>Loan_Length</td>\n",
       "    </tr>\n",
       "    <tr>\n",
       "      <td>2</td>\n",
       "      <td>2.277838</td>\n",
       "      <td>Revolving_CREDIT_Balance</td>\n",
       "    </tr>\n",
       "    <tr>\n",
       "      <td>3</td>\n",
       "      <td>1.600594</td>\n",
       "      <td>Inquiries_in_the_Last_6_Months</td>\n",
       "    </tr>\n",
       "    <tr>\n",
       "      <td>4</td>\n",
       "      <td>19.353965</td>\n",
       "      <td>ficoavg</td>\n",
       "    </tr>\n",
       "    <tr>\n",
       "      <td>5</td>\n",
       "      <td>2.458164</td>\n",
       "      <td>Loan_Purpose_debt_consolidation</td>\n",
       "    </tr>\n",
       "    <tr>\n",
       "      <td>6</td>\n",
       "      <td>1.179603</td>\n",
       "      <td>Loan_Purpose_home_improvement</td>\n",
       "    </tr>\n",
       "    <tr>\n",
       "      <td>7</td>\n",
       "      <td>1.121188</td>\n",
       "      <td>Loan_Purpose_major_purchase</td>\n",
       "    </tr>\n",
       "  </tbody>\n",
       "</table>\n",
       "</div>"
      ],
      "text/plain": [
       "   VIF Factor                         features\n",
       "0    4.989693                 Amount_Requested\n",
       "1   21.261084                      Loan_Length\n",
       "2    2.277838         Revolving_CREDIT_Balance\n",
       "3    1.600594   Inquiries_in_the_Last_6_Months\n",
       "4   19.353965                          ficoavg\n",
       "5    2.458164  Loan_Purpose_debt_consolidation\n",
       "6    1.179603    Loan_Purpose_home_improvement\n",
       "7    1.121188      Loan_Purpose_major_purchase"
      ]
     },
     "execution_count": 38,
     "metadata": {},
     "output_type": "execute_result"
    }
   ],
   "source": [
    "vif = pd.DataFrame()\n",
    "vif[\"VIF Factor\"] = [variance_inflation_factor(features.values, i) for i in range(features.shape[1])]\n",
    "vif[\"features\"] = features.columns\n",
    "vif"
   ]
  },
  {
   "cell_type": "code",
   "execution_count": 39,
   "metadata": {},
   "outputs": [],
   "source": [
    "features.drop(['Loan_Length'], axis = 1, inplace = True)"
   ]
  },
  {
   "cell_type": "code",
   "execution_count": 40,
   "metadata": {},
   "outputs": [
    {
     "data": {
      "text/html": [
       "<div>\n",
       "<style scoped>\n",
       "    .dataframe tbody tr th:only-of-type {\n",
       "        vertical-align: middle;\n",
       "    }\n",
       "\n",
       "    .dataframe tbody tr th {\n",
       "        vertical-align: top;\n",
       "    }\n",
       "\n",
       "    .dataframe thead th {\n",
       "        text-align: right;\n",
       "    }\n",
       "</style>\n",
       "<table border=\"1\" class=\"dataframe\">\n",
       "  <thead>\n",
       "    <tr style=\"text-align: right;\">\n",
       "      <th></th>\n",
       "      <th>VIF Factor</th>\n",
       "      <th>features</th>\n",
       "    </tr>\n",
       "  </thead>\n",
       "  <tbody>\n",
       "    <tr>\n",
       "      <td>0</td>\n",
       "      <td>4.228138</td>\n",
       "      <td>Amount_Requested</td>\n",
       "    </tr>\n",
       "    <tr>\n",
       "      <td>1</td>\n",
       "      <td>2.271051</td>\n",
       "      <td>Revolving_CREDIT_Balance</td>\n",
       "    </tr>\n",
       "    <tr>\n",
       "      <td>2</td>\n",
       "      <td>1.593553</td>\n",
       "      <td>Inquiries_in_the_Last_6_Months</td>\n",
       "    </tr>\n",
       "    <tr>\n",
       "      <td>3</td>\n",
       "      <td>5.569837</td>\n",
       "      <td>ficoavg</td>\n",
       "    </tr>\n",
       "    <tr>\n",
       "      <td>4</td>\n",
       "      <td>2.457070</td>\n",
       "      <td>Loan_Purpose_debt_consolidation</td>\n",
       "    </tr>\n",
       "    <tr>\n",
       "      <td>5</td>\n",
       "      <td>1.178986</td>\n",
       "      <td>Loan_Purpose_home_improvement</td>\n",
       "    </tr>\n",
       "    <tr>\n",
       "      <td>6</td>\n",
       "      <td>1.121029</td>\n",
       "      <td>Loan_Purpose_major_purchase</td>\n",
       "    </tr>\n",
       "  </tbody>\n",
       "</table>\n",
       "</div>"
      ],
      "text/plain": [
       "   VIF Factor                         features\n",
       "0    4.228138                 Amount_Requested\n",
       "1    2.271051         Revolving_CREDIT_Balance\n",
       "2    1.593553   Inquiries_in_the_Last_6_Months\n",
       "3    5.569837                          ficoavg\n",
       "4    2.457070  Loan_Purpose_debt_consolidation\n",
       "5    1.178986    Loan_Purpose_home_improvement\n",
       "6    1.121029      Loan_Purpose_major_purchase"
      ]
     },
     "execution_count": 40,
     "metadata": {},
     "output_type": "execute_result"
    }
   ],
   "source": [
    "vif = pd.DataFrame()\n",
    "vif[\"VIF Factor\"] = [variance_inflation_factor(features.values, i) for i in range(features.shape[1])]\n",
    "vif[\"features\"] = features.columns\n",
    "vif"
   ]
  },
  {
   "cell_type": "code",
   "execution_count": 41,
   "metadata": {},
   "outputs": [],
   "source": [
    "features.drop(['Amount_Requested'], axis = 1, inplace = True)"
   ]
  },
  {
   "cell_type": "code",
   "execution_count": 42,
   "metadata": {},
   "outputs": [
    {
     "data": {
      "text/html": [
       "<div>\n",
       "<style scoped>\n",
       "    .dataframe tbody tr th:only-of-type {\n",
       "        vertical-align: middle;\n",
       "    }\n",
       "\n",
       "    .dataframe tbody tr th {\n",
       "        vertical-align: top;\n",
       "    }\n",
       "\n",
       "    .dataframe thead th {\n",
       "        text-align: right;\n",
       "    }\n",
       "</style>\n",
       "<table border=\"1\" class=\"dataframe\">\n",
       "  <thead>\n",
       "    <tr style=\"text-align: right;\">\n",
       "      <th></th>\n",
       "      <th>VIF Factor</th>\n",
       "      <th>features</th>\n",
       "    </tr>\n",
       "  </thead>\n",
       "  <tbody>\n",
       "    <tr>\n",
       "      <td>0</td>\n",
       "      <td>2.010587</td>\n",
       "      <td>Revolving_CREDIT_Balance</td>\n",
       "    </tr>\n",
       "    <tr>\n",
       "      <td>1</td>\n",
       "      <td>1.593172</td>\n",
       "      <td>Inquiries_in_the_Last_6_Months</td>\n",
       "    </tr>\n",
       "    <tr>\n",
       "      <td>2</td>\n",
       "      <td>4.187310</td>\n",
       "      <td>ficoavg</td>\n",
       "    </tr>\n",
       "    <tr>\n",
       "      <td>3</td>\n",
       "      <td>2.370484</td>\n",
       "      <td>Loan_Purpose_debt_consolidation</td>\n",
       "    </tr>\n",
       "    <tr>\n",
       "      <td>4</td>\n",
       "      <td>1.172954</td>\n",
       "      <td>Loan_Purpose_home_improvement</td>\n",
       "    </tr>\n",
       "    <tr>\n",
       "      <td>5</td>\n",
       "      <td>1.117729</td>\n",
       "      <td>Loan_Purpose_major_purchase</td>\n",
       "    </tr>\n",
       "  </tbody>\n",
       "</table>\n",
       "</div>"
      ],
      "text/plain": [
       "   VIF Factor                         features\n",
       "0    2.010587         Revolving_CREDIT_Balance\n",
       "1    1.593172   Inquiries_in_the_Last_6_Months\n",
       "2    4.187310                          ficoavg\n",
       "3    2.370484  Loan_Purpose_debt_consolidation\n",
       "4    1.172954    Loan_Purpose_home_improvement\n",
       "5    1.117729      Loan_Purpose_major_purchase"
      ]
     },
     "execution_count": 42,
     "metadata": {},
     "output_type": "execute_result"
    }
   ],
   "source": [
    "vif = pd.DataFrame()\n",
    "vif[\"VIF Factor\"] = [variance_inflation_factor(features.values, i) for i in range(features.shape[1])]\n",
    "vif[\"features\"] = features.columns\n",
    "vif"
   ]
  },
  {
   "cell_type": "markdown",
   "metadata": {},
   "source": [
    "#### Data preparation step - 3 (feature engineering/ feature reduction/ feature selection)\n",
    "\n",
    "- The number of features are less in number, thus we wont perform this step.\n",
    "- But we can see one the feature selection step that is f_regression."
   ]
  },
  {
   "cell_type": "code",
   "execution_count": 43,
   "metadata": {},
   "outputs": [],
   "source": [
    "from sklearn.feature_selection import f_regression"
   ]
  },
  {
   "cell_type": "code",
   "execution_count": 44,
   "metadata": {},
   "outputs": [
    {
     "name": "stderr",
     "output_type": "stream",
     "text": [
      "C:\\Users\\DELL\\Anaconda3\\lib\\site-packages\\sklearn\\utils\\validation.py:724: DataConversionWarning: A column-vector y was passed when a 1d array was expected. Please change the shape of y to (n_samples, ), for example using ravel().\n",
      "  y = column_or_1d(y, warn=True)\n"
     ]
    },
    {
     "data": {
      "text/html": [
       "<div>\n",
       "<style scoped>\n",
       "    .dataframe tbody tr th:only-of-type {\n",
       "        vertical-align: middle;\n",
       "    }\n",
       "\n",
       "    .dataframe tbody tr th {\n",
       "        vertical-align: top;\n",
       "    }\n",
       "\n",
       "    .dataframe thead th {\n",
       "        text-align: right;\n",
       "    }\n",
       "</style>\n",
       "<table border=\"1\" class=\"dataframe\">\n",
       "  <thead>\n",
       "    <tr style=\"text-align: right;\">\n",
       "      <th></th>\n",
       "      <th>feature</th>\n",
       "      <th>F_value</th>\n",
       "      <th>P_value</th>\n",
       "    </tr>\n",
       "  </thead>\n",
       "  <tbody>\n",
       "    <tr>\n",
       "      <td>2</td>\n",
       "      <td>ficoavg</td>\n",
       "      <td>2568.482208</td>\n",
       "      <td>0.000000e+00</td>\n",
       "    </tr>\n",
       "    <tr>\n",
       "      <td>1</td>\n",
       "      <td>Inquiries_in_the_Last_6_Months</td>\n",
       "      <td>74.708773</td>\n",
       "      <td>9.572824e-18</td>\n",
       "    </tr>\n",
       "    <tr>\n",
       "      <td>3</td>\n",
       "      <td>Loan_Purpose_debt_consolidation</td>\n",
       "      <td>43.076043</td>\n",
       "      <td>6.380195e-11</td>\n",
       "    </tr>\n",
       "    <tr>\n",
       "      <td>5</td>\n",
       "      <td>Loan_Purpose_major_purchase</td>\n",
       "      <td>31.493787</td>\n",
       "      <td>2.221466e-08</td>\n",
       "    </tr>\n",
       "    <tr>\n",
       "      <td>4</td>\n",
       "      <td>Loan_Purpose_home_improvement</td>\n",
       "      <td>19.791890</td>\n",
       "      <td>9.013078e-06</td>\n",
       "    </tr>\n",
       "    <tr>\n",
       "      <td>0</td>\n",
       "      <td>Revolving_CREDIT_Balance</td>\n",
       "      <td>17.585776</td>\n",
       "      <td>2.842029e-05</td>\n",
       "    </tr>\n",
       "  </tbody>\n",
       "</table>\n",
       "</div>"
      ],
      "text/plain": [
       "                           feature      F_value       P_value\n",
       "2                          ficoavg  2568.482208  0.000000e+00\n",
       "1   Inquiries_in_the_Last_6_Months    74.708773  9.572824e-18\n",
       "3  Loan_Purpose_debt_consolidation    43.076043  6.380195e-11\n",
       "5      Loan_Purpose_major_purchase    31.493787  2.221466e-08\n",
       "4    Loan_Purpose_home_improvement    19.791890  9.013078e-06\n",
       "0         Revolving_CREDIT_Balance    17.585776  2.842029e-05"
      ]
     },
     "execution_count": 44,
     "metadata": {},
     "output_type": "execute_result"
    }
   ],
   "source": [
    "# F Regression(doing regression for each variable, which ever variable is having higher relation, select them).\n",
    "# From this we can see why we did not remove 'ficoavg' at the start, even after we saw it is having vif value > 5.  \n",
    "\n",
    "F_values, P_values = f_regression(features,target)\n",
    "f_regression_results = pd.concat([pd.Series(features.columns),pd.Series(F_values),pd.Series(P_values)], axis = 1)\n",
    "f_regression_results.columns = ['feature','F_value','P_value']\n",
    "f_regression_results.sort_values('F_value', ascending = False)"
   ]
  },
  {
   "cell_type": "code",
   "execution_count": 45,
   "metadata": {},
   "outputs": [],
   "source": [
    "# Due to less amount of x variable available, we can skip the feature reduction step and move on. "
   ]
  },
  {
   "cell_type": "markdown",
   "metadata": {},
   "source": [
    "#### Data preparation step - 4"
   ]
  },
  {
   "cell_type": "code",
   "execution_count": 46,
   "metadata": {},
   "outputs": [],
   "source": [
    "# split the data into test and train data\n",
    "\n",
    "data_final = pd.concat([features,target], axis = 1)"
   ]
  },
  {
   "cell_type": "code",
   "execution_count": 47,
   "metadata": {},
   "outputs": [],
   "source": [
    "train,test = train_test_split(data_final, test_size = 0.3, random_state = 121)"
   ]
  },
  {
   "cell_type": "markdown",
   "metadata": {},
   "source": [
    "#### Model building"
   ]
  },
  {
   "cell_type": "code",
   "execution_count": 48,
   "metadata": {},
   "outputs": [
    {
     "data": {
      "text/plain": [
       "'Interest_Rate ~Revolving_CREDIT_Balance+Inquiries_in_the_Last_6_Months+ficoavg+Loan_Purpose_debt_consolidation+Loan_Purpose_home_improvement+Loan_Purpose_major_purchase'"
      ]
     },
     "execution_count": 48,
     "metadata": {},
     "output_type": "execute_result"
    }
   ],
   "source": [
    "formula = 'Interest_Rate ~' + '+'.join(features.columns)\n",
    "formula"
   ]
  },
  {
   "cell_type": "code",
   "execution_count": 49,
   "metadata": {},
   "outputs": [],
   "source": [
    "lr_model = smf.ols('Interest_Rate ~Revolving_CREDIT_Balance+Inquiries_in_the_Last_6_Months+ficoavg+Loan_Purpose_debt_consolidation+Loan_Purpose_home_improvement+Loan_Purpose_major_purchase', data = train)"
   ]
  },
  {
   "cell_type": "code",
   "execution_count": 50,
   "metadata": {},
   "outputs": [],
   "source": [
    "lr_model = lr_model.fit()"
   ]
  },
  {
   "cell_type": "code",
   "execution_count": 51,
   "metadata": {},
   "outputs": [
    {
     "name": "stdout",
     "output_type": "stream",
     "text": [
      "                            OLS Regression Results                            \n",
      "==============================================================================\n",
      "Dep. Variable:          Interest_Rate   R-squared:                       0.532\n",
      "Model:                            OLS   Adj. R-squared:                  0.530\n",
      "Method:                 Least Squares   F-statistic:                     329.8\n",
      "Date:                Wed, 05 Aug 2020   Prob (F-statistic):          7.82e-283\n",
      "Time:                        18:39:54   Log-Likelihood:                -4323.5\n",
      "No. Observations:                1750   AIC:                             8661.\n",
      "Df Residuals:                    1743   BIC:                             8699.\n",
      "Df Model:                           6                                         \n",
      "Covariance Type:            nonrobust                                         \n",
      "===================================================================================================\n",
      "                                      coef    std err          t      P>|t|      [0.025      0.975]\n",
      "---------------------------------------------------------------------------------------------------\n",
      "Intercept                          72.0087      1.434     50.213      0.000      69.196      74.821\n",
      "Revolving_CREDIT_Balance         2.145e-05   4.55e-06      4.712      0.000    1.25e-05    3.04e-05\n",
      "Inquiries_in_the_Last_6_Months      0.3982      0.060      6.584      0.000       0.280       0.517\n",
      "ficoavg                            -0.0846      0.002    -42.032      0.000      -0.089      -0.081\n",
      "Loan_Purpose_debt_consolidation     0.5139      0.147      3.502      0.000       0.226       0.802\n",
      "Loan_Purpose_home_improvement       0.6122      0.304      2.015      0.044       0.016       1.208\n",
      "Loan_Purpose_major_purchase         0.0240      0.357      0.067      0.946      -0.677       0.725\n",
      "==============================================================================\n",
      "Omnibus:                       88.680   Durbin-Watson:                   2.066\n",
      "Prob(Omnibus):                  0.000   Jarque-Bera (JB):              101.674\n",
      "Skew:                           0.588   Prob(JB):                     8.35e-23\n",
      "Kurtosis:                       2.900   Cond. No.                     4.47e+05\n",
      "==============================================================================\n",
      "\n",
      "Warnings:\n",
      "[1] Standard Errors assume that the covariance matrix of the errors is correctly specified.\n",
      "[2] The condition number is large, 4.47e+05. This might indicate that there are\n",
      "strong multicollinearity or other numerical problems.\n"
     ]
    }
   ],
   "source": [
    "print(lr_model.summary())"
   ]
  },
  {
   "cell_type": "code",
   "execution_count": 52,
   "metadata": {},
   "outputs": [],
   "source": [
    "# As the p-value for variable 'Loan_Purpose_major_purchase' is higher than (.05) we will drop that variable and again re run the model.\n",
    "\n",
    "lr_model = smf.ols('Interest_Rate ~Revolving_CREDIT_Balance+Inquiries_in_the_Last_6_Months+ficoavg+Loan_Purpose_debt_consolidation+Loan_Purpose_home_improvement', data = train)"
   ]
  },
  {
   "cell_type": "code",
   "execution_count": 53,
   "metadata": {},
   "outputs": [],
   "source": [
    "lr_model = lr_model.fit()"
   ]
  },
  {
   "cell_type": "code",
   "execution_count": 54,
   "metadata": {},
   "outputs": [
    {
     "name": "stdout",
     "output_type": "stream",
     "text": [
      "                            OLS Regression Results                            \n",
      "==============================================================================\n",
      "Dep. Variable:          Interest_Rate   R-squared:                       0.532\n",
      "Model:                            OLS   Adj. R-squared:                  0.530\n",
      "Method:                 Least Squares   F-statistic:                     396.0\n",
      "Date:                Wed, 05 Aug 2020   Prob (F-statistic):          3.75e-284\n",
      "Time:                        18:39:55   Log-Likelihood:                -4323.5\n",
      "No. Observations:                1750   AIC:                             8659.\n",
      "Df Residuals:                    1744   BIC:                             8692.\n",
      "Df Model:                           5                                         \n",
      "Covariance Type:            nonrobust                                         \n",
      "===================================================================================================\n",
      "                                      coef    std err          t      P>|t|      [0.025      0.975]\n",
      "---------------------------------------------------------------------------------------------------\n",
      "Intercept                          71.9993      1.427     50.461      0.000      69.201      74.798\n",
      "Revolving_CREDIT_Balance         2.143e-05   4.54e-06      4.722      0.000    1.25e-05    3.03e-05\n",
      "Inquiries_in_the_Last_6_Months      0.3983      0.060      6.590      0.000       0.280       0.517\n",
      "ficoavg                            -0.0846      0.002    -42.367      0.000      -0.089      -0.081\n",
      "Loan_Purpose_debt_consolidation     0.5117      0.143      3.581      0.000       0.231       0.792\n",
      "Loan_Purpose_home_improvement       0.6095      0.301      2.025      0.043       0.019       1.200\n",
      "==============================================================================\n",
      "Omnibus:                       88.704   Durbin-Watson:                   2.066\n",
      "Prob(Omnibus):                  0.000   Jarque-Bera (JB):              101.705\n",
      "Skew:                           0.588   Prob(JB):                     8.22e-23\n",
      "Kurtosis:                       2.900   Cond. No.                     4.44e+05\n",
      "==============================================================================\n",
      "\n",
      "Warnings:\n",
      "[1] Standard Errors assume that the covariance matrix of the errors is correctly specified.\n",
      "[2] The condition number is large, 4.44e+05. This might indicate that there are\n",
      "strong multicollinearity or other numerical problems.\n"
     ]
    }
   ],
   "source": [
    "print(lr_model.summary())"
   ]
  },
  {
   "cell_type": "code",
   "execution_count": 55,
   "metadata": {},
   "outputs": [],
   "source": [
    "# Final equation:\n",
    "# Interest_Rate = 0.00002143 * Revolving_CREDIT_Balance+ 0.3983*Inquiries_in_the_Last_6_Months- 0.0846*ficoavg+ 0.5117*Loan_Purpose_debt_consolidation+ 0.6095*Loan_Purpose_home_improvement"
   ]
  },
  {
   "cell_type": "code",
   "execution_count": 56,
   "metadata": {},
   "outputs": [
    {
     "name": "stderr",
     "output_type": "stream",
     "text": [
      "C:\\Users\\DELL\\Anaconda3\\lib\\site-packages\\ipykernel_launcher.py:1: SettingWithCopyWarning: \n",
      "A value is trying to be set on a copy of a slice from a DataFrame.\n",
      "Try using .loc[row_indexer,col_indexer] = value instead\n",
      "\n",
      "See the caveats in the documentation: http://pandas.pydata.org/pandas-docs/stable/user_guide/indexing.html#returning-a-view-versus-a-copy\n",
      "  \"\"\"Entry point for launching an IPython kernel.\n"
     ]
    }
   ],
   "source": [
    "train['Pred'] = lr_model.predict(train)"
   ]
  },
  {
   "cell_type": "code",
   "execution_count": 57,
   "metadata": {},
   "outputs": [
    {
     "name": "stderr",
     "output_type": "stream",
     "text": [
      "C:\\Users\\DELL\\Anaconda3\\lib\\site-packages\\ipykernel_launcher.py:1: SettingWithCopyWarning: \n",
      "A value is trying to be set on a copy of a slice from a DataFrame.\n",
      "Try using .loc[row_indexer,col_indexer] = value instead\n",
      "\n",
      "See the caveats in the documentation: http://pandas.pydata.org/pandas-docs/stable/user_guide/indexing.html#returning-a-view-versus-a-copy\n",
      "  \"\"\"Entry point for launching an IPython kernel.\n"
     ]
    }
   ],
   "source": [
    "test['Pred'] = lr_model.predict(test)"
   ]
  },
  {
   "cell_type": "code",
   "execution_count": 58,
   "metadata": {},
   "outputs": [
    {
     "data": {
      "text/html": [
       "<div>\n",
       "<style scoped>\n",
       "    .dataframe tbody tr th:only-of-type {\n",
       "        vertical-align: middle;\n",
       "    }\n",
       "\n",
       "    .dataframe tbody tr th {\n",
       "        vertical-align: top;\n",
       "    }\n",
       "\n",
       "    .dataframe thead th {\n",
       "        text-align: right;\n",
       "    }\n",
       "</style>\n",
       "<table border=\"1\" class=\"dataframe\">\n",
       "  <thead>\n",
       "    <tr style=\"text-align: right;\">\n",
       "      <th></th>\n",
       "      <th>Revolving_CREDIT_Balance</th>\n",
       "      <th>Inquiries_in_the_Last_6_Months</th>\n",
       "      <th>ficoavg</th>\n",
       "      <th>Loan_Purpose_debt_consolidation</th>\n",
       "      <th>Loan_Purpose_home_improvement</th>\n",
       "      <th>Loan_Purpose_major_purchase</th>\n",
       "      <th>Interest_Rate</th>\n",
       "      <th>Pred</th>\n",
       "    </tr>\n",
       "  </thead>\n",
       "  <tbody>\n",
       "    <tr>\n",
       "      <td>1992</td>\n",
       "      <td>6913.0</td>\n",
       "      <td>0.0</td>\n",
       "      <td>712.0</td>\n",
       "      <td>1</td>\n",
       "      <td>0</td>\n",
       "      <td>0</td>\n",
       "      <td>10.16</td>\n",
       "      <td>12.430168</td>\n",
       "    </tr>\n",
       "    <tr>\n",
       "      <td>998</td>\n",
       "      <td>5624.0</td>\n",
       "      <td>0.0</td>\n",
       "      <td>697.0</td>\n",
       "      <td>0</td>\n",
       "      <td>1</td>\n",
       "      <td>0</td>\n",
       "      <td>16.32</td>\n",
       "      <td>13.769227</td>\n",
       "    </tr>\n",
       "    <tr>\n",
       "      <td>2364</td>\n",
       "      <td>13205.0</td>\n",
       "      <td>0.0</td>\n",
       "      <td>667.0</td>\n",
       "      <td>1</td>\n",
       "      <td>0</td>\n",
       "      <td>0</td>\n",
       "      <td>18.25</td>\n",
       "      <td>16.371585</td>\n",
       "    </tr>\n",
       "    <tr>\n",
       "      <td>2215</td>\n",
       "      <td>33189.0</td>\n",
       "      <td>0.0</td>\n",
       "      <td>712.0</td>\n",
       "      <td>1</td>\n",
       "      <td>0</td>\n",
       "      <td>0</td>\n",
       "      <td>7.90</td>\n",
       "      <td>12.993169</td>\n",
       "    </tr>\n",
       "    <tr>\n",
       "      <td>226</td>\n",
       "      <td>28703.0</td>\n",
       "      <td>2.0</td>\n",
       "      <td>712.0</td>\n",
       "      <td>0</td>\n",
       "      <td>0</td>\n",
       "      <td>1</td>\n",
       "      <td>12.12</td>\n",
       "      <td>13.182049</td>\n",
       "    </tr>\n",
       "  </tbody>\n",
       "</table>\n",
       "</div>"
      ],
      "text/plain": [
       "      Revolving_CREDIT_Balance  Inquiries_in_the_Last_6_Months  ficoavg  \\\n",
       "1992                    6913.0                             0.0    712.0   \n",
       "998                     5624.0                             0.0    697.0   \n",
       "2364                   13205.0                             0.0    667.0   \n",
       "2215                   33189.0                             0.0    712.0   \n",
       "226                    28703.0                             2.0    712.0   \n",
       "\n",
       "      Loan_Purpose_debt_consolidation  Loan_Purpose_home_improvement  \\\n",
       "1992                                1                              0   \n",
       "998                                 0                              1   \n",
       "2364                                1                              0   \n",
       "2215                                1                              0   \n",
       "226                                 0                              0   \n",
       "\n",
       "      Loan_Purpose_major_purchase  Interest_Rate       Pred  \n",
       "1992                            0          10.16  12.430168  \n",
       "998                             0          16.32  13.769227  \n",
       "2364                            0          18.25  16.371585  \n",
       "2215                            0           7.90  12.993169  \n",
       "226                             1          12.12  13.182049  "
      ]
     },
     "execution_count": 58,
     "metadata": {},
     "output_type": "execute_result"
    }
   ],
   "source": [
    "train.head()"
   ]
  },
  {
   "cell_type": "code",
   "execution_count": 59,
   "metadata": {},
   "outputs": [
    {
     "name": "stdout",
     "output_type": "stream",
     "text": [
      "The Mean Absolute Percentage Error for train data is 19.03859003359125\n",
      "The Root Mean Square Error for train data is 8.193152968389601\n",
      "The Root Mean Square Percentage Error is 5.995070799499608\n",
      "The correlation between actual and Predicted house prize is 0.7291781538386082\n"
     ]
    }
   ],
   "source": [
    "# Calculating the error matrices for train data\n",
    "\n",
    "train_MAPE =(np.mean(np.abs(train.Interest_Rate - train.Pred)/train.Interest_Rate))*100\n",
    "train_RMSE =np.mean(np.square(train.Interest_Rate - train.Pred))\n",
    "train_RMSPE =(np.mean(np.square((train.Interest_Rate - train.Pred)/train.Interest_Rate)))*100\n",
    "train_corr = np.corrcoef(train.Interest_Rate, train.Pred)[1][0]\n",
    "print('The Mean Absolute Percentage Error for train data is',train_MAPE)\n",
    "print('The Root Mean Square Error for train data is',train_RMSE)\n",
    "print('The Root Mean Square Percentage Error is',train_RMSPE)\n",
    "print('The correlation between actual and Predicted house prize is',train_corr)"
   ]
  },
  {
   "cell_type": "code",
   "execution_count": 60,
   "metadata": {},
   "outputs": [
    {
     "name": "stdout",
     "output_type": "stream",
     "text": [
      "The Mean Absolute Percentage Error for train data is 19.98083518459673\n",
      "The Root Mean Square Error for train data is 7.98418803602933\n",
      "The Root Mean Square Percentage Error is 6.664610317872715\n",
      "The correlation between actual and Predicted house prize is 0.7194047218437697\n"
     ]
    }
   ],
   "source": [
    "test_MAPE =(np.mean(np.abs(test.Interest_Rate - test.Pred)/test.Interest_Rate))*100\n",
    "test_RMSE =np.mean(np.square(test.Interest_Rate - test.Pred))\n",
    "test_RMSPE =(np.mean(np.square((test.Interest_Rate - test.Pred)/test.Interest_Rate)))*100\n",
    "test_corr = np.corrcoef(test.Interest_Rate, test.Pred)[1][0]\n",
    "print('The Mean Absolute Percentage Error for train data is',test_MAPE)\n",
    "print('The Root Mean Square Error for train data is',test_RMSE)\n",
    "print('The Root Mean Square Percentage Error is',test_RMSPE)\n",
    "print('The correlation between actual and Predicted house prize is',test_corr)"
   ]
  },
  {
   "cell_type": "markdown",
   "metadata": {},
   "source": [
    "#### Decile Analysis\n",
    "\n",
    "Decile analysis is a ranking analysis, where on the basis of independent/target variable the dataset is divided into 10 groups. Each group is given a rank, highest is 9 and lowest is 0.We can do the avearage or the sum of the values of a group.\n",
    "\n",
    "Following are the characteristics of good model/the model is stable :\n",
    "\n",
    "#1. If the higher rank decile is having higer value and lower rank decile has lower value for both actual and predicted, then we will say our each rank is predicted properly.\n",
    "\n",
    "#2. The decrease of value from higher rank to lower rank should be linear"
   ]
  },
  {
   "cell_type": "code",
   "execution_count": 61,
   "metadata": {},
   "outputs": [
    {
     "name": "stderr",
     "output_type": "stream",
     "text": [
      "C:\\Users\\DELL\\Anaconda3\\lib\\site-packages\\ipykernel_launcher.py:2: SettingWithCopyWarning: \n",
      "A value is trying to be set on a copy of a slice from a DataFrame.\n",
      "Try using .loc[row_indexer,col_indexer] = value instead\n",
      "\n",
      "See the caveats in the documentation: http://pandas.pydata.org/pandas-docs/stable/user_guide/indexing.html#returning-a-view-versus-a-copy\n",
      "  \n"
     ]
    }
   ],
   "source": [
    "# For training data\n",
    "train['Deciles']=pd.qcut(train['Pred'],10, labels=False)"
   ]
  },
  {
   "cell_type": "code",
   "execution_count": 62,
   "metadata": {},
   "outputs": [
    {
     "data": {
      "text/html": [
       "<div>\n",
       "<style scoped>\n",
       "    .dataframe tbody tr th:only-of-type {\n",
       "        vertical-align: middle;\n",
       "    }\n",
       "\n",
       "    .dataframe tbody tr th {\n",
       "        vertical-align: top;\n",
       "    }\n",
       "\n",
       "    .dataframe thead th {\n",
       "        text-align: right;\n",
       "    }\n",
       "</style>\n",
       "<table border=\"1\" class=\"dataframe\">\n",
       "  <thead>\n",
       "    <tr style=\"text-align: right;\">\n",
       "      <th></th>\n",
       "      <th>Interest_Rate</th>\n",
       "      <th>Pred</th>\n",
       "    </tr>\n",
       "    <tr>\n",
       "      <th>Deciles</th>\n",
       "      <th></th>\n",
       "      <th></th>\n",
       "    </tr>\n",
       "  </thead>\n",
       "  <tbody>\n",
       "    <tr>\n",
       "      <td>9</td>\n",
       "      <td>17.700105</td>\n",
       "      <td>17.095979</td>\n",
       "    </tr>\n",
       "    <tr>\n",
       "      <td>8</td>\n",
       "      <td>16.548855</td>\n",
       "      <td>16.124721</td>\n",
       "    </tr>\n",
       "    <tr>\n",
       "      <td>7</td>\n",
       "      <td>15.764227</td>\n",
       "      <td>15.519510</td>\n",
       "    </tr>\n",
       "    <tr>\n",
       "      <td>6</td>\n",
       "      <td>14.830171</td>\n",
       "      <td>14.750513</td>\n",
       "    </tr>\n",
       "    <tr>\n",
       "      <td>5</td>\n",
       "      <td>14.199257</td>\n",
       "      <td>14.017762</td>\n",
       "    </tr>\n",
       "    <tr>\n",
       "      <td>4</td>\n",
       "      <td>12.941829</td>\n",
       "      <td>13.261923</td>\n",
       "    </tr>\n",
       "    <tr>\n",
       "      <td>3</td>\n",
       "      <td>11.373486</td>\n",
       "      <td>12.352487</td>\n",
       "    </tr>\n",
       "    <tr>\n",
       "      <td>2</td>\n",
       "      <td>10.559429</td>\n",
       "      <td>11.303625</td>\n",
       "    </tr>\n",
       "    <tr>\n",
       "      <td>1</td>\n",
       "      <td>9.267360</td>\n",
       "      <td>9.676509</td>\n",
       "    </tr>\n",
       "    <tr>\n",
       "      <td>0</td>\n",
       "      <td>7.702571</td>\n",
       "      <td>6.784263</td>\n",
       "    </tr>\n",
       "  </tbody>\n",
       "</table>\n",
       "</div>"
      ],
      "text/plain": [
       "         Interest_Rate       Pred\n",
       "Deciles                          \n",
       "9            17.700105  17.095979\n",
       "8            16.548855  16.124721\n",
       "7            15.764227  15.519510\n",
       "6            14.830171  14.750513\n",
       "5            14.199257  14.017762\n",
       "4            12.941829  13.261923\n",
       "3            11.373486  12.352487\n",
       "2            10.559429  11.303625\n",
       "1             9.267360   9.676509\n",
       "0             7.702571   6.784263"
      ]
     },
     "execution_count": 62,
     "metadata": {},
     "output_type": "execute_result"
    }
   ],
   "source": [
    "# Calculating the mean of the deciles\n",
    "\n",
    "avg_actual = train[['Deciles','Interest_Rate']].groupby(train.Deciles).mean().sort_index(ascending = False)['Interest_Rate']\n",
    "avg_pred = train[['Deciles','Pred']].groupby(train.Deciles).mean().sort_index(ascending = False)['Pred']\n",
    "decile_analysis_train = pd.concat([avg_actual,avg_pred], axis = 1)\n",
    "decile_analysis_train"
   ]
  },
  {
   "cell_type": "code",
   "execution_count": 63,
   "metadata": {},
   "outputs": [
    {
     "name": "stderr",
     "output_type": "stream",
     "text": [
      "C:\\Users\\DELL\\Anaconda3\\lib\\site-packages\\ipykernel_launcher.py:4: SettingWithCopyWarning: \n",
      "A value is trying to be set on a copy of a slice from a DataFrame.\n",
      "Try using .loc[row_indexer,col_indexer] = value instead\n",
      "\n",
      "See the caveats in the documentation: http://pandas.pydata.org/pandas-docs/stable/user_guide/indexing.html#returning-a-view-versus-a-copy\n",
      "  after removing the cwd from sys.path.\n"
     ]
    },
    {
     "data": {
      "text/html": [
       "<div>\n",
       "<style scoped>\n",
       "    .dataframe tbody tr th:only-of-type {\n",
       "        vertical-align: middle;\n",
       "    }\n",
       "\n",
       "    .dataframe tbody tr th {\n",
       "        vertical-align: top;\n",
       "    }\n",
       "\n",
       "    .dataframe thead th {\n",
       "        text-align: right;\n",
       "    }\n",
       "</style>\n",
       "<table border=\"1\" class=\"dataframe\">\n",
       "  <thead>\n",
       "    <tr style=\"text-align: right;\">\n",
       "      <th></th>\n",
       "      <th>Interest_Rate</th>\n",
       "      <th>Pred</th>\n",
       "    </tr>\n",
       "    <tr>\n",
       "      <th>Deciles</th>\n",
       "      <th></th>\n",
       "      <th></th>\n",
       "    </tr>\n",
       "  </thead>\n",
       "  <tbody>\n",
       "    <tr>\n",
       "      <td>9</td>\n",
       "      <td>17.358932</td>\n",
       "      <td>17.143408</td>\n",
       "    </tr>\n",
       "    <tr>\n",
       "      <td>8</td>\n",
       "      <td>16.821731</td>\n",
       "      <td>16.211921</td>\n",
       "    </tr>\n",
       "    <tr>\n",
       "      <td>7</td>\n",
       "      <td>15.814400</td>\n",
       "      <td>15.497935</td>\n",
       "    </tr>\n",
       "    <tr>\n",
       "      <td>6</td>\n",
       "      <td>14.520533</td>\n",
       "      <td>14.751884</td>\n",
       "    </tr>\n",
       "    <tr>\n",
       "      <td>5</td>\n",
       "      <td>14.247333</td>\n",
       "      <td>13.960145</td>\n",
       "    </tr>\n",
       "    <tr>\n",
       "      <td>4</td>\n",
       "      <td>12.587867</td>\n",
       "      <td>13.229157</td>\n",
       "    </tr>\n",
       "    <tr>\n",
       "      <td>3</td>\n",
       "      <td>10.665067</td>\n",
       "      <td>12.335437</td>\n",
       "    </tr>\n",
       "    <tr>\n",
       "      <td>2</td>\n",
       "      <td>10.660453</td>\n",
       "      <td>11.295595</td>\n",
       "    </tr>\n",
       "    <tr>\n",
       "      <td>1</td>\n",
       "      <td>8.691493</td>\n",
       "      <td>9.720153</td>\n",
       "    </tr>\n",
       "    <tr>\n",
       "      <td>0</td>\n",
       "      <td>8.574613</td>\n",
       "      <td>6.784362</td>\n",
       "    </tr>\n",
       "  </tbody>\n",
       "</table>\n",
       "</div>"
      ],
      "text/plain": [
       "         Interest_Rate       Pred\n",
       "Deciles                          \n",
       "9            17.358932  17.143408\n",
       "8            16.821731  16.211921\n",
       "7            15.814400  15.497935\n",
       "6            14.520533  14.751884\n",
       "5            14.247333  13.960145\n",
       "4            12.587867  13.229157\n",
       "3            10.665067  12.335437\n",
       "2            10.660453  11.295595\n",
       "1             8.691493   9.720153\n",
       "0             8.574613   6.784362"
      ]
     },
     "execution_count": 63,
     "metadata": {},
     "output_type": "execute_result"
    }
   ],
   "source": [
    "# For test data\n",
    "# Calculating the mean of the deciles\n",
    "\n",
    "test['Deciles']=pd.qcut(test['Pred'],10, labels=False)\n",
    "avg_actual = test[['Deciles','Interest_Rate']].groupby(test.Deciles).mean().sort_index(ascending = False)['Interest_Rate']\n",
    "avg_pred = test[['Deciles','Pred']].groupby(test.Deciles).mean().sort_index(ascending = False)['Pred']\n",
    "decile_analysis_test = pd.concat([avg_actual,avg_pred], axis = 1)\n",
    "decile_analysis_test"
   ]
  },
  {
   "cell_type": "markdown",
   "metadata": {},
   "source": [
    "- We can see that the values are in linear decreasing order for both actual and pred which means each group is predicted well.\n",
    "- Secondly, comparing the avg value of both actual and pred. we saw the group with high values are predicted well in comparision to the group with lower average values.\n",
    "- The test accuracy and train accuracy are nearly equal, showing the sign of a stable model.\n",
    "- The MAPE is around 20%, thus the model can be further improve with additional significant features."
   ]
  },
  {
   "cell_type": "code",
   "execution_count": null,
   "metadata": {},
   "outputs": [],
   "source": []
  }
 ],
 "metadata": {
  "kernelspec": {
   "display_name": "Python 3",
   "language": "python",
   "name": "python3"
  },
  "language_info": {
   "codemirror_mode": {
    "name": "ipython",
    "version": 3
   },
   "file_extension": ".py",
   "mimetype": "text/x-python",
   "name": "python",
   "nbconvert_exporter": "python",
   "pygments_lexer": "ipython3",
   "version": "3.7.4"
  }
 },
 "nbformat": 4,
 "nbformat_minor": 2
}
